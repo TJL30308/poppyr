{
 "cells": [
  {
   "cell_type": "code",
   "execution_count": null,
   "metadata": {},
   "outputs": [],
   "source": [
    "import plotly as py\n",
    "import plotly.graph_objs as go\n",
    "import numpy as np\n",
    "import pandas as pd"
   ]
  },
  {
   "cell_type": "code",
   "execution_count": null,
   "metadata": {},
   "outputs": [],
   "source": [
    "us_data = pd.read_csv('USCB_US.csv', header=1, sep=r'\\s*,\\s*', engine='python')\n",
    "us_data.head()"
   ]
  },
  {
   "cell_type": "code",
   "execution_count": null,
   "metadata": {},
   "outputs": [],
   "source": [
    "# us_data.tail()\n",
    "us_data['Male Population'][1]"
   ]
  },
  {
   "cell_type": "code",
   "execution_count": null,
   "metadata": {},
   "outputs": [],
   "source": [
    "men_population = us_data['Male Population'][1:]\n",
    "women_population = us_data['Female Population'][1:]\n",
    "\n",
    "myInt = 1000\n",
    "myInt2 = -1000\n",
    "\n",
    "new_men = [x / myInt for x in men_population]\n",
    "new_women = [x / myInt2 for x in women_population]\n",
    "\n",
    "\n",
    "print(max(men_population))\n",
    "print(max(women_population))\n",
    "print(max(new_men))\n",
    "print(max(new_women))\n",
    "print(-max(new_women))"
   ]
  },
  {
   "cell_type": "code",
   "execution_count": null,
   "metadata": {},
   "outputs": [],
   "source": [
    "women_bins = np.array(new_women)\n",
    "men_bins = np.array(new_men)\n",
    "\n",
    "y = list(range(0, 100, 1))\n",
    "\n",
    "layout = go.Layout(yaxis=go.layout.YAxis(title='Age'),\n",
    "                  xaxis=go.layout.XAxis(\n",
    "                      range=[-max(new_men),max(new_men)],\n",
    "                      tickvals=[-150000,-100000,-50000, 0, 50000, 100000, 150000],\n",
    "                      ticktext=[150000,100000,50000, 0, 50000, 100000, 150000], \n",
    "                      title='Population'),\n",
    "                  barmode='overlay',\n",
    "                  bargap=0.1)\n",
    "\n",
    "data = [go.Bar(y=y,\n",
    "              x=men_bins,\n",
    "              orientation='h',\n",
    "              name='Men',\n",
    "              hoverinfo='x',\n",
    "              marker=dict(color='powderblue')\n",
    "              ),\n",
    "        go.Bar(y=y,\n",
    "               x= women_bins,\n",
    "               orientation='h',\n",
    "               name='Women',\n",
    "               text= -1 * women_bins.astype('int'),\n",
    "               hoverinfo='text',\n",
    "               marker=dict(color='seagreen')\n",
    "              )]\n",
    "\n",
    "fig = go.Figure(\n",
    "    data=data,\n",
    "    layout=layout\n",
    ")\n",
    "\n",
    "fig.show()"
   ]
  },
  {
   "cell_type": "code",
   "execution_count": null,
   "metadata": {},
   "outputs": [],
   "source": [
    "new_men"
   ]
  },
  {
   "cell_type": "code",
   "execution_count": null,
   "metadata": {},
   "outputs": [],
   "source": [
    "new_women"
   ]
  },
  {
   "cell_type": "code",
   "execution_count": null,
   "metadata": {},
   "outputs": [],
   "source": []
  }
 ],
 "metadata": {
  "kernelspec": {
   "display_name": "Python 3",
   "language": "python",
   "name": "python3"
  },
  "language_info": {
   "codemirror_mode": {
    "name": "ipython",
    "version": 3
   },
   "file_extension": ".py",
   "mimetype": "text/x-python",
   "name": "python",
   "nbconvert_exporter": "python",
   "pygments_lexer": "ipython3",
   "version": "3.8.0"
  }
 },
 "nbformat": 4,
 "nbformat_minor": 2
}
